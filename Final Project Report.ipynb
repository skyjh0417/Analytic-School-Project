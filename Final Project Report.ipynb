{
 "cells": [
  {
   "cell_type": "markdown",
   "metadata": {},
   "source": [
    "### Introduction"
   ]
  },
  {
   "cell_type": "markdown",
   "metadata": {},
   "source": [
    "The scope of the project is to analyze Hult region “Jetfire” which corresponds to Western Europe, including the following countries:\n",
    "\n",
    "\n",
    "Austria,Belgium, Switzerland, Germany, Denmark, Spain, France, Faeroe Islands, United Kingdom, Gibraltar, Greenland, Isle of Man, Ireland, Iceland, Italy, Liechtenstein, Luxembourg, St. Martin (French part), Monaco, Netherlands, Portugal, Sint Maarteen\n",
    "\n",
    "These 22 countries have different climates, landforms, agricultural output, languages and culture. \n",
    "\n",
    "The western culture is the result of classical civilizations, Christianity, Renaissance and Reformation, the Enlightenment, and the industrial and scientific revolutions."
   ]
  },
  {
   "cell_type": "markdown",
   "metadata": {},
   "source": [
    "### First Imputation Strategy: Importing data from World bank"
   ]
  },
  {
   "cell_type": "markdown",
   "metadata": {},
   "source": [
    "We figured out that there are total of 374 missing values in the data frame. "
   ]
  },
  {
   "cell_type": "markdown",
   "metadata": {},
   "source": [
    "<img src=\"images/figure1.png\">"
   ]
  },
  {
   "cell_type": "markdown",
   "metadata": {},
   "source": [
    "Therefore, our first strategy was to fill the missing values from outside source such as the World Bank. We downloaded an excel file from year 2010 to 2020 and imported it. However, the structure of the file was different. So we worked on changing the structure of the data to make it identical to the original one and ended up having 10 yearly reports. "
   ]
  },
  {
   "cell_type": "markdown",
   "metadata": {},
   "source": [
    "<img src=\"images/figure2.png\">"
   ]
  },
  {
   "cell_type": "markdown",
   "metadata": {},
   "source": [
    "Then, we started update the value starting from 2020 to 2010. We were able to reduce the total number of missing values to 349. (Note: we decided to fill the missing values from different points of time as long as they are within 10 years because analyzing the report with values from different times will be more accurate than doing it without values at all.)"
   ]
  },
  {
   "cell_type": "markdown",
   "metadata": {},
   "source": [
    "<img src=\"images/figure3.png\">"
   ]
  },
  {
   "cell_type": "markdown",
   "metadata": {},
   "source": [
    "### Irrelevant data: ODA, Malaria, Poverty Gap"
   ]
  },
  {
   "cell_type": "markdown",
   "metadata": {},
   "source": [
    "As we were inspecting the data, we identified that three features (Net ODA received per capita, reported cases of malaria, and poverty gap at national poverty lines) were not reported from any countries in the region. According to the research, we found that all of the countries did not report the cases because:\n",
    "\n",
    "- No countries received ODA because they are all high-income countries \n",
    "- There are malaria transmission reported in the region \n",
    "- All of the countries do not report the poverty gap for they are rich countries.\n",
    "\n",
    "Therefore, we decided to drop these three columns. \n"
   ]
  },
  {
   "cell_type": "markdown",
   "metadata": {},
   "source": [
    "Number of missing values per column\n",
    "\n",
    "<img src=\"images/figure4.png\">"
   ]
  },
  {
   "cell_type": "markdown",
   "metadata": {},
   "source": [
    "### Second Imputation Strategy: Separating the region into two groups and filling values from CIA World Fact Book"
   ]
  },
  {
   "cell_type": "markdown",
   "metadata": {},
   "source": [
    "We found that the first 8 less populous countries having less than 300,000 population are identical to the countries with the most missing values. "
   ]
  },
  {
   "cell_type": "markdown",
   "metadata": {
    "cell_style": "split"
   },
   "source": [
    "<img src=\"images/figure5.png\">"
   ]
  },
  {
   "cell_type": "markdown",
   "metadata": {
    "cell_style": "split"
   },
   "source": [
    "<img src=\"images/figure6.png\">"
   ]
  },
  {
   "cell_type": "markdown",
   "metadata": {},
   "source": [
    "Therefore, we decided to separate the region into two groups depending on population size."
   ]
  },
  {
   "cell_type": "markdown",
   "metadata": {},
   "source": [
    "<img src=\"images/figure7.png\">"
   ]
  },
  {
   "cell_type": "markdown",
   "metadata": {},
   "source": [
    "Then, we started filling the values of the less populous group from CIA World Fact Book. For this time, we decided to save the data frame into excel file and manually fill the values directly onto the file. Then, we imported the values back to the Notebook and updated the data frame on which we were able to reduce the missing values from 241 to 208."
   ]
  },
  {
   "cell_type": "markdown",
   "metadata": {},
   "source": [
    "<img src=\"images/figure8.png\">"
   ]
  },
  {
   "cell_type": "markdown",
   "metadata": {},
   "source": [
    "### Detecting outliers"
   ]
  },
  {
   "cell_type": "markdown",
   "metadata": {},
   "source": [
    "As we were inspecting GDP per person employed, we identified that two countries, St. Martin and Sint Maarten have significantly lower values than other countries. "
   ]
  },
  {
   "cell_type": "markdown",
   "metadata": {},
   "source": [
    "<img src=\"images/figure9.png\">"
   ]
  },
  {
   "cell_type": "markdown",
   "metadata": {},
   "source": [
    "Even though the boxplot does not show that two territories are outliers, their GDP per person employed are relatively far off from the rest of the data points."
   ]
  },
  {
   "cell_type": "markdown",
   "metadata": {},
   "source": [
    "<img src=\"images/figure10.png\">"
   ]
  },
  {
   "cell_type": "markdown",
   "metadata": {},
   "source": [
    "Also we noticed that they geographically belong to Latin American and Caribbean Sea region. Therefore, we decided to take these two countries out of the region because data points of the countries can decrease the accuracy of the analysis."
   ]
  },
  {
   "cell_type": "markdown",
   "metadata": {},
   "source": [
    "<img src=\"images/figure11.png\">"
   ]
  },
  {
   "cell_type": "markdown",
   "metadata": {},
   "source": [
    "### Third Imputation strategy: filling missing values with median"
   ]
  },
  {
   "cell_type": "markdown",
   "metadata": {},
   "source": [
    "We still had some missing values to deal with and decided to fill them with a median value. However, we kept two groups and applied the same imputation strategy separately because some extreme values from the less populous group can influence the data in the large populous group."
   ]
  },
  {
   "cell_type": "markdown",
   "metadata": {},
   "source": [
    "We first checked the number of missing values in the group with less than 300,000 population. Even though we have gone through two different methods of filling in missing values from outside sources, we still few columns without any data."
   ]
  },
  {
   "cell_type": "markdown",
   "metadata": {},
   "source": [
    "Out of 6 countries in the group, there are still many columns without any data\n",
    "<img src=\"images/figure12.png\">"
   ]
  },
  {
   "cell_type": "markdown",
   "metadata": {},
   "source": [
    "We decided to fill the missing values with the median number as long as there is at least one value in the column"
   ]
  },
  {
   "cell_type": "markdown",
   "metadata": {},
   "source": [
    "<img src=\"images/figure13.png\">"
   ]
  },
  {
   "cell_type": "markdown",
   "metadata": {},
   "source": [
    "We applied the same logic to the other group"
   ]
  },
  {
   "cell_type": "markdown",
   "metadata": {},
   "source": [
    "<img src=\"images/figure14.png\">"
   ]
  },
  {
   "cell_type": "markdown",
   "metadata": {},
   "source": [
    "### Result of the imputation"
   ]
  },
  {
   "cell_type": "markdown",
   "metadata": {},
   "source": [
    "We were able to fill most of missing values except 17 columns or features which less populous group did not have any values at all originally. But these are the data that we cannot fill and we decided to proceed to the next stage, analysis."
   ]
  },
  {
   "cell_type": "markdown",
   "metadata": {},
   "source": [
    "### What is the country that best represents the region?"
   ]
  },
  {
   "cell_type": "markdown",
   "metadata": {},
   "source": [
    "We decided that for a country to be a true representative of the region its value should be very close to either median or mean value of the region. But we were not able to use median or mean value per country because every feature uses different units."
   ]
  },
  {
   "cell_type": "markdown",
   "metadata": {},
   "source": [
    "Therefore we decided to check each country’s value of the column with the mean or median value of column, take the difference, make it an absolute value, and rank it so that number 1 represents a value close to the mean or median.  Then we averaged the total rank of the country and whichever country has the highest rank is the one that best represents the region. And we came up with Belgium from both processes. "
   ]
  },
  {
   "cell_type": "markdown",
   "metadata": {},
   "source": [
    "<img src=\"images/figure15.png\">"
   ]
  },
  {
   "cell_type": "markdown",
   "metadata": {},
   "source": [
    "<img src=\"images/figure16.png\">"
   ]
  },
  {
   "cell_type": "markdown",
   "metadata": {},
   "source": [
    "### What are the top 5 features of the dataset compared to other regions?"
   ]
  },
  {
   "cell_type": "markdown",
   "metadata": {},
   "source": [
    "In order to identify 5 features of the region that stand out amongst other regions, we need a median value of the features from other regions. Therefore, we first separated every country into different regions that only contain median values."
   ]
  },
  {
   "cell_type": "markdown",
   "metadata": {},
   "source": [
    "<img src=\"images/figure17.png\">"
   ]
  },
  {
   "cell_type": "markdown",
   "metadata": {},
   "source": [
    "Then we merged every single data frame into one data frame for an easier comparison. "
   ]
  },
  {
   "cell_type": "markdown",
   "metadata": {},
   "source": [
    "<img src=\"images/figure18.png\">"
   ]
  },
  {
   "cell_type": "markdown",
   "metadata": {},
   "source": [
    "We ranked the data frame so that those region with lower median value is placed to the top. "
   ]
  },
  {
   "cell_type": "markdown",
   "metadata": {},
   "source": [
    "<img src=\"images/figure19.png\">"
   ]
  },
  {
   "cell_type": "markdown",
   "metadata": {},
   "source": [
    "We then selected those columns that our region, Jetfire, is placed at either the first or last place because this rank represents that the feature stands out amongst other regions. "
   ]
  },
  {
   "cell_type": "markdown",
   "metadata": {},
   "source": [
    "<img src=\"images/figure20.png\">"
   ]
  },
  {
   "cell_type": "markdown",
   "metadata": {},
   "source": [
    "Even though we were able to reduce the number of features by half, there were still 22 features that we needed to compare. So we plotted a boxplot of a each feature and selected ones that have long tails towards our data point. "
   ]
  },
  {
   "cell_type": "markdown",
   "metadata": {},
   "source": [
    "From these boxplots, we were able to identify 5 features:\n",
    "\n",
    "- CO2 emissions (metric tons per capita)\n",
    "- GDP per person employed (constant 2011 PPP $)\n",
    "\n",
    "- GNI per capita, Atlas method (current US$)\n",
    "- Internet users (per 100 pepole)\n",
    "- Proportion of seats held by women in national parliaments (%)"
   ]
  },
  {
   "cell_type": "markdown",
   "metadata": {
    "cell_style": "split"
   },
   "source": [
    "<img src=\"images/figure21.png\">"
   ]
  },
  {
   "cell_type": "markdown",
   "metadata": {
    "cell_style": "split"
   },
   "source": [
    "<img src=\"images/figure22.png\">"
   ]
  },
  {
   "cell_type": "markdown",
   "metadata": {
    "cell_style": "split"
   },
   "source": [
    "<img src=\"images/figure23.png\">"
   ]
  },
  {
   "cell_type": "markdown",
   "metadata": {
    "cell_style": "split"
   },
   "source": [
    "<img src=\"images/figure24.png\">"
   ]
  },
  {
   "cell_type": "markdown",
   "metadata": {
    "cell_style": "split"
   },
   "source": [
    "<img src=\"images/figure25.png\">"
   ]
  },
  {
   "cell_type": "markdown",
   "metadata": {},
   "source": [
    "### Supporting the findings"
   ]
  },
  {
   "cell_type": "markdown",
   "metadata": {},
   "source": [
    "#### CO2 emissions (metric tons per capita)"
   ]
  },
  {
   "cell_type": "markdown",
   "metadata": {},
   "source": [
    "CO2 emissions (metric tons per capita) for our region have the highest value as all the countries in our region are developed with higher standard of living which translates to higher consumption of fossil fuels(oil, gas & Coal) and cement compared to other regions. This should not be confused with “total CO2 emissions” as that doesn’t take into consideration the population of the region. The countries in our region are undertaking policies to reduce the carbon foot print but they have not brought about any changes so far as can be seen by increase in CO2 emissions from 2008 to 2018 in figures 2 & 3.\n",
    "\n",
    "1) http://www.globalcarbonatlas.org/en/CO2-emissions\n",
    "2) https://www.carbonbrief.org/5-facts-about-europes-carbon-emissions\n",
    "\n",
    "<img src=\"images/figure26.png\">\n"
   ]
  },
  {
   "cell_type": "markdown",
   "metadata": {},
   "source": [
    "#### GDP per person employed (constant 2011 PPP $)"
   ]
  },
  {
   "cell_type": "markdown",
   "metadata": {},
   "source": [
    "Western Europe has a higher GDP per person employed because it is a measure of employment, and historically in the long run the unemployment rate has been lower than other regions. It is also an important factor that the population in Northern European countries has a much lower proportion than in the more industrialized countries, but the value of the annual salary is much higher than other countries with the same GDP. That's why when measuring and comparing this employment variable the division of GDP by the number of economically active population gives us a higher value than the rest of the world regions. And finally, the average labor force is higher, because there is more middle class population and much less poverty.\n",
    "1.\thttps://ec.europa.eu/eurostat/web/products-datasets/product?code=tec00114\n",
    "2.\thttps://data.worldbank.org/indicator/SL.GDP.PCAP.EM.KD?type=shaded&view=map&year=2006\n",
    "3.\thttps://www.pewresearch.org/global/2017/04/24/the-middle-class-is-large-in-many-western-european-countries-but-it-is-losing-ground-in-places/\n",
    "\n",
    "                                      GDP per person employed (constant 2011 PPP $)\n",
    "<img src=\"images/figure27.png\">\n"
   ]
  },
  {
   "cell_type": "markdown",
   "metadata": {},
   "source": [
    "#### GNI per capita, Atlas method (current US$)"
   ]
  },
  {
   "cell_type": "markdown",
   "metadata": {},
   "source": [
    "Western Europe has the highest GNI per capita because the economic prosperity, social history, and most of the macroeconomic factors have shown an upward trend for several decades. And above all they have left behind the factor of poverty and inequality, measured with GINI index. It should also be taken into account that productivity is a differentiating factor in these countries. If the income is higher on average and the population is lower, unlike other regions that suffer from problems of overpopulation, the value measured is higher than the rest of the regions.\n",
    "\n",
    "1.\thttps://www.pewresearch.org/global/2017/04/24/the-middle-class-is-large-in-many-western-european-countries-but-it-is-losing-ground-in-places/\n",
    "2.\thttps://ourworldindata.org/economic-growth\n",
    "\n",
    "                                        GNI per capita, Atlas method (current US$)\n",
    "<img src=\"images/figure28.png\">\n"
   ]
  },
  {
   "cell_type": "markdown",
   "metadata": {},
   "source": [
    "#### Internet users (per 100 pepole)"
   ]
  },
  {
   "cell_type": "markdown",
   "metadata": {},
   "source": [
    "Internet users(per 100 people) is one of the key indicators for checking internet penetration and according to the data set that we analyzed and world bank indicators almost all the countries in our region have above 70 internet users per 100 people which is highest compared with any other region in the world.\n",
    "\n",
    "Rich Countries with better infrastructure, governance and human development have resources and money to spend on creating wider internet access and safer servers, our region scores high in these areas as can be seen by the highest GDP per person employed (constant 2011 PPP $) and GNI per capita, Atlas method (current US$) compared with any other region of world and these are driving high number of internet users for 100 people.2\n",
    "\n",
    "                                            Internet Users per 100 people\n",
    "<img src=\"images/figure29.png\">\n",
    "\n",
    "1)  https://data.worldbank.org/indicator/IT.NET.USER.ZS?most_recent_value_desc=true\n",
    "\n",
    "2)  Amiri, S., Reif, B., & Program, M. (2013). Internet Penetration and its Correlation to Gross Domestic Product: An Analysis of the Nordic Countries.\n",
    "\n",
    "3)  https://blogs.worldbank.org/developmenttalk/how-does-digital-technology-help-fight-against-covid-19"
   ]
  },
  {
   "cell_type": "markdown",
   "metadata": {},
   "source": [
    "#### Proportion of seats held by women in national parliaments (%)"
   ]
  },
  {
   "cell_type": "markdown",
   "metadata": {},
   "source": [
    "Women from western region of Europe hold more than 30% of seats in national parliaments. This share has increased since 2003. Among all of them Belgium (40%), Spain (40%), Austria (37%), Denmark (36%), Portugal (36%) and Italy (35%) all have high proportion of seats held by women. \n",
    "\n",
    "This unique feature of the region is mainly due to the long history of the expansion of women’s rights to vote. Along with the suffrage, the establishment of the democracy and human rights in this region have influenced and improved the voting rights and changes in the political structures like the parliaments.\n",
    "\n",
    "Today the high number of seats held by women is also due to the strong support of the Member States in promoting and improving the gender balance in high positions by monitoring the situation and disseminating the data and analysis of trends in the field through annual reports on equality between women and men.\n",
    "\n",
    "1. https://ec.europa.eu/eurostat/web/products-eurostat-news/-/EDN-20190306-2?inheritRedirect=true&redirect=%2Feurostat%2F\n",
    "\n",
    "                                    Proportion of seats held by women in national parliaments (%)\n",
    "<img src=\"images/figure30.png\">\n"
   ]
  }
 ],
 "metadata": {
  "kernelspec": {
   "display_name": "Python 3",
   "language": "python",
   "name": "python3"
  },
  "language_info": {
   "codemirror_mode": {
    "name": "ipython",
    "version": 3
   },
   "file_extension": ".py",
   "mimetype": "text/x-python",
   "name": "python",
   "nbconvert_exporter": "python",
   "pygments_lexer": "ipython3",
   "version": "3.8.3"
  },
  "toc": {
   "base_numbering": 1,
   "nav_menu": {},
   "number_sections": true,
   "sideBar": true,
   "skip_h1_title": false,
   "title_cell": "Table of Contents",
   "title_sidebar": "Contents",
   "toc_cell": false,
   "toc_position": {},
   "toc_section_display": true,
   "toc_window_display": false
  },
  "varInspector": {
   "cols": {
    "lenName": 16,
    "lenType": 16,
    "lenVar": 40
   },
   "kernels_config": {
    "python": {
     "delete_cmd_postfix": "",
     "delete_cmd_prefix": "del ",
     "library": "var_list.py",
     "varRefreshCmd": "print(var_dic_list())"
    },
    "r": {
     "delete_cmd_postfix": ") ",
     "delete_cmd_prefix": "rm(",
     "library": "var_list.r",
     "varRefreshCmd": "cat(var_dic_list()) "
    }
   },
   "types_to_exclude": [
    "module",
    "function",
    "builtin_function_or_method",
    "instance",
    "_Feature"
   ],
   "window_display": false
  }
 },
 "nbformat": 4,
 "nbformat_minor": 4
}
